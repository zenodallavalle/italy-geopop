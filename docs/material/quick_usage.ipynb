{
 "cells": [
  {
   "cell_type": "code",
   "execution_count": null,
   "metadata": {},
   "outputs": [],
   "source": [
    "import os\n",
    "import sys\n",
    "\n",
    "sys.path.insert(0, os.path.abspath('../..'))\n",
    "\n",
    "os.makedirs('../source/_static/assets', exist_ok=True)"
   ]
  },
  {
   "cell_type": "code",
   "execution_count": null,
   "metadata": {},
   "outputs": [],
   "source": [
    "import pandas as pd"
   ]
  },
  {
   "cell_type": "code",
   "execution_count": null,
   "metadata": {},
   "outputs": [],
   "source": [
    "from italy_geopop.pandas_extension import pandas_activate\n",
    "pandas_activate(include_geometry=True)"
   ]
  },
  {
   "cell_type": "code",
   "execution_count": null,
   "metadata": {},
   "outputs": [],
   "source": [
    "from utils import repr_floats, repr_geometry, repr_short"
   ]
  },
  {
   "cell_type": "code",
   "execution_count": null,
   "metadata": {},
   "outputs": [],
   "source": [
    "data = pd.Series([\"Torino\", \"Agliè\", \"Airasca\"])\n",
    "data.italy_geopop.from_municipality().applymap(repr_short).applymap(repr_floats).applymap(repr_geometry).to_csv('../source/_static/assets/quick_usage_01.csv')"
   ]
  },
  {
   "cell_type": "code",
   "execution_count": null,
   "metadata": {},
   "outputs": [],
   "source": [
    "data = pd.Series([\"Torino\", \"Milano\", \"Venezia\"])\n",
    "data.italy_geopop.from_province().applymap(repr_short).applymap(repr_floats).applymap(repr_geometry).to_csv('../source/_static/assets/quick_usage_02.csv')"
   ]
  },
  {
   "cell_type": "code",
   "execution_count": null,
   "metadata": {},
   "outputs": [],
   "source": [
    "data = pd.Series([\"Piemonte\", \"Lombardia\", \"Veneto\"])\n",
    "data.italy_geopop.from_region().applymap(repr_short).applymap(repr_floats).applymap(repr_geometry).to_csv('../source/_static/assets/quick_usage_03.csv')"
   ]
  }
 ],
 "metadata": {
  "kernelspec": {
   "display_name": "env",
   "language": "python",
   "name": "python3"
  },
  "language_info": {
   "name": "python",
   "version": "3.10.9"
  },
  "orig_nbformat": 4,
  "vscode": {
   "interpreter": {
    "hash": "2d1d0036c4c9e7017dec76192f998985eb787c58d0e6a99df188a89dc63a7fb8"
   }
  }
 },
 "nbformat": 4,
 "nbformat_minor": 2
}
